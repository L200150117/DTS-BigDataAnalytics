{
 "cells": [
  {
   "cell_type": "markdown",
   "metadata": {},
   "source": [
    "# Analisis Chicago Census"
   ]
  },
  {
   "cell_type": "markdown",
   "metadata": {},
   "source": [
    "### Disusun Oleh : Widiyarti Endang Saputri\n",
    "------\n",
    "\n",
    "About this Dataset\n",
    "\n",
    "This dataset contains a selection of six socioeconomic indicators of public health significance and a “hardship index,” by Chicago community.\n",
    "<br>\n",
    "<br>\n",
    "Features: <br> \n",
    "* Community Area Number\n",
    "* COMMUNITY AREA NAME\n",
    "* PERCENT OF HOUSING CROWDED = Percent occupied housing units with more than one person per room\n",
    "* PERCENT HOUSEHOLDS BELOW POVERTY = Percent of households living below the federal poverty level\n",
    "* PERCENT AGED 16+ UNEMPLOYED = Percent of persons over the age of 16 years that are unemployed\n",
    "* PERCENT AGED 25+ WITHOUT HIGH SCHOOL DIPLOMA = Percent of persons over the age of 25 years without a high school education\n",
    "* PERCENT AGED UNDER 18 OR OVER 64 = Percent of the population under 18 or over 64 years of age (i.e., dependency)\n",
    "* PER CAPITA INCOME = Community Area Per capita income is estimated as the sum of tract-level aggregate incomes divided by the total population\n",
    "* HARDSHIP INDEXScore = that incorporates each of the six selected socioeconomic indicators (see dataset description)\n",
    "\n",
    "\n",
    "Sumber data dari [Chicago_Census.csv](https://www.kaggle.com/).\n",
    "Dan Data yang saya ambil sudah saya edit sebelum digunakan, sehingga ada perbedaan dari data aslinya. peng-edit-an yang saya lakukan, tetap mengambil dari sumber diatas."
   ]
  },
  {
   "cell_type": "markdown",
   "metadata": {},
   "source": [
    "Pertama yang dilakukan adalah meload data dari file dataset Chicago_Census.csv . Disini menggunakan Library Pandas yang ada di Python untuk membuat DataFrame."
   ]
  },
  {
   "cell_type": "code",
   "execution_count": 139,
   "metadata": {},
   "outputs": [
    {
     "data": {
      "text/html": [
       "<div>\n",
       "<style scoped>\n",
       "    .dataframe tbody tr th:only-of-type {\n",
       "        vertical-align: middle;\n",
       "    }\n",
       "\n",
       "    .dataframe tbody tr th {\n",
       "        vertical-align: top;\n",
       "    }\n",
       "\n",
       "    .dataframe thead th {\n",
       "        text-align: right;\n",
       "    }\n",
       "</style>\n",
       "<table border=\"1\" class=\"dataframe\">\n",
       "  <thead>\n",
       "    <tr style=\"text-align: right;\">\n",
       "      <th></th>\n",
       "      <th>Community_Area_Number</th>\n",
       "      <th>PERCENT_OF_HOUSING_CROWDED</th>\n",
       "      <th>PERCENT_HOUSEHOLDS_BELOW_POVERTY</th>\n",
       "      <th>PERCENT_AGED_16+_UNEMPLOYED</th>\n",
       "      <th>PERCENT_AGED_25+_WITHOUT_HIGH_SCHOOL_DIPLOMA</th>\n",
       "      <th>PERCENT_AGED UNDER_18_OR_OVER_64</th>\n",
       "      <th>PER_CAPITA_INCOME</th>\n",
       "      <th>HARDSHIP_INDEX</th>\n",
       "    </tr>\n",
       "  </thead>\n",
       "  <tbody>\n",
       "    <tr>\n",
       "      <th>0</th>\n",
       "      <td>1</td>\n",
       "      <td>7.7</td>\n",
       "      <td>23.6</td>\n",
       "      <td>8.7</td>\n",
       "      <td>18.2</td>\n",
       "      <td>27.5</td>\n",
       "      <td>23939</td>\n",
       "      <td>39</td>\n",
       "    </tr>\n",
       "    <tr>\n",
       "      <th>1</th>\n",
       "      <td>2</td>\n",
       "      <td>7.8</td>\n",
       "      <td>17.2</td>\n",
       "      <td>8.8</td>\n",
       "      <td>20.8</td>\n",
       "      <td>38.5</td>\n",
       "      <td>23040</td>\n",
       "      <td>46</td>\n",
       "    </tr>\n",
       "    <tr>\n",
       "      <th>2</th>\n",
       "      <td>3</td>\n",
       "      <td>3.8</td>\n",
       "      <td>24.0</td>\n",
       "      <td>8.9</td>\n",
       "      <td>11.8</td>\n",
       "      <td>22.2</td>\n",
       "      <td>35787</td>\n",
       "      <td>20</td>\n",
       "    </tr>\n",
       "    <tr>\n",
       "      <th>3</th>\n",
       "      <td>4</td>\n",
       "      <td>3.4</td>\n",
       "      <td>10.9</td>\n",
       "      <td>8.2</td>\n",
       "      <td>13.4</td>\n",
       "      <td>25.5</td>\n",
       "      <td>37524</td>\n",
       "      <td>17</td>\n",
       "    </tr>\n",
       "    <tr>\n",
       "      <th>4</th>\n",
       "      <td>5</td>\n",
       "      <td>0.3</td>\n",
       "      <td>7.5</td>\n",
       "      <td>5.2</td>\n",
       "      <td>4.5</td>\n",
       "      <td>26.2</td>\n",
       "      <td>57123</td>\n",
       "      <td>6</td>\n",
       "    </tr>\n",
       "  </tbody>\n",
       "</table>\n",
       "</div>"
      ],
      "text/plain": [
       "   Community_Area_Number  PERCENT_OF_HOUSING_CROWDED  PERCENT_HOUSEHOLDS_BELOW_POVERTY  \\\n",
       "0                      1                         7.7                              23.6   \n",
       "1                      2                         7.8                              17.2   \n",
       "2                      3                         3.8                              24.0   \n",
       "3                      4                         3.4                              10.9   \n",
       "4                      5                         0.3                               7.5   \n",
       "\n",
       "   PERCENT_AGED_16+_UNEMPLOYED  PERCENT_AGED_25+_WITHOUT_HIGH_SCHOOL_DIPLOMA  \\\n",
       "0                          8.7                                          18.2   \n",
       "1                          8.8                                          20.8   \n",
       "2                          8.9                                          11.8   \n",
       "3                          8.2                                          13.4   \n",
       "4                          5.2                                           4.5   \n",
       "\n",
       "   PERCENT_AGED UNDER_18_OR_OVER_64  PER_CAPITA_INCOME   HARDSHIP_INDEX  \n",
       "0                              27.5               23939              39  \n",
       "1                              38.5               23040              46  \n",
       "2                              22.2               35787              20  \n",
       "3                              25.5               37524              17  \n",
       "4                              26.2               57123               6  "
      ]
     },
     "execution_count": 139,
     "metadata": {},
     "output_type": "execute_result"
    }
   ],
   "source": [
    "import pandas as pd\n",
    "\n",
    "# Ambil data dari file Chicago_Census_SociaEcon_CommArea_2008_2012.csv\n",
    "data= pd.read_csv('https://bucketbda03.s3.amazonaws.com/Chicago_Census.csv')\n",
    "\n",
    "#menampilkan 5 data teratas\n",
    "data.head()\n"
   ]
  },
  {
   "cell_type": "markdown",
   "metadata": {},
   "source": [
    "Langkah selanjutnya yaitu melakukan pre-processing (data cleaning dan data preparing) yang bertujuan untuk pengecekan apakah di dalam dataset terdapat missing value atau tidak."
   ]
  },
  {
   "cell_type": "code",
   "execution_count": 140,
   "metadata": {},
   "outputs": [
    {
     "data": {
      "text/plain": [
       "Community_Area_Number                           0\n",
       "PERCENT_OF_HOUSING_CROWDED                      0\n",
       "PERCENT_HOUSEHOLDS_BELOW_POVERTY                0\n",
       "PERCENT_AGED_16+_UNEMPLOYED                     0\n",
       "PERCENT_AGED_25+_WITHOUT_HIGH_SCHOOL_DIPLOMA    0\n",
       "PERCENT_AGED UNDER_18_OR_OVER_64                0\n",
       "PER_CAPITA_INCOME                               0\n",
       "HARDSHIP_INDEX                                  0\n",
       "dtype: int64"
      ]
     },
     "execution_count": 140,
     "metadata": {},
     "output_type": "execute_result"
    }
   ],
   "source": [
    "data.isnull().sum()"
   ]
  },
  {
   "cell_type": "markdown",
   "metadata": {},
   "source": [
    "Dan hasil yang iperoleh hasil bahwa setiap kolom bernilai 0, artinya tidak ada missing value"
   ]
  },
  {
   "cell_type": "markdown",
   "metadata": {},
   "source": [
    "#### Membuat Scatter Plot untuk masing - masing features"
   ]
  },
  {
   "cell_type": "markdown",
   "metadata": {},
   "source": [
    "Langkah Selanjutnya adalah membuat scatter plot untuk masing - masing features berdasarkan dataset. Feature yang di dapatkan dari Dataset yaitu meliputi 'Community Area Number', 'PERCENT OF HOUSING CROWDED', 'PERCENT HOUSEHOLDS BELOW POVERTY', 'PERCENT AGED 16+ UNEMPLOYED', 'PERCENT AGED 25+ WITHOUT HIGH SCHOOL DIPLOMA', 'PERCENT AGED UNDER 18 OR OVER 64', 'PER CAPITA INCOME ' dan diplotkan dengan target yaitu Feature HARDSHIP_INDEX."
   ]
  },
  {
   "cell_type": "code",
   "execution_count": 141,
   "metadata": {},
   "outputs": [
    {
     "name": "stdout",
     "output_type": "stream",
     "text": [
      "1. Scatter Plot antara 'Community Area Number' dan 'HARDSHIP_INDEX'\n"
     ]
    },
    {
     "data": {
      "image/png": "[encoded data removed]",
      "text/plain": [
       "<Figure size 432x288 with 1 Axes>"
      ]
     },
     "metadata": {
      "needs_background": "light"
     },
     "output_type": "display_data"
    },
    {
     "name": "stdout",
     "output_type": "stream",
     "text": [
      "2. Scatter Plot antara 'COMMUNITY AREA NAME' dan 'HARDSHIP_INDEX'\n"
     ]
    },
    {
     "data": {
      "image/png": "[encoded data removed]",
      "text/plain": [
       "<Figure size 432x288 with 1 Axes>"
      ]
     },
     "metadata": {
      "needs_background": "light"
     },
     "output_type": "display_data"
    },
    {
     "name": "stdout",
     "output_type": "stream",
     "text": [
      "3. Scatter Plot antara 'PERCENT OF HOUSING CROWDED' dan 'HARDSHIP_INDEX'\n"
     ]
    },
    {
     "data": {
      "image/png": "[encoded data removed]",
      "text/plain": [
       "<Figure size 432x288 with 1 Axes>"
      ]
     },
     "metadata": {
      "needs_background": "light"
     },
     "output_type": "display_data"
    },
    {
     "name": "stdout",
     "output_type": "stream",
     "text": [
      "4. Scatter Plot antara 'PERCENT HOUSEHOLDS BELOW POVERTY' dan 'HARDSHIP_INDEX'\n"
     ]
    },
    {
     "data": {
      "image/png": "[encoded data removed]",
      "text/plain": [
       "<Figure size 432x288 with 1 Axes>"
      ]
     },
     "metadata": {
      "needs_background": "light"
     },
     "output_type": "display_data"
    },
    {
     "name": "stdout",
     "output_type": "stream",
     "text": [
      "5. Scatter Plot antara 'PERCENT AGED 25+ WITHOUT HIGH SCHOOL DIPLOMA' dan 'HARDSHIP_INDEX'\n"
     ]
    },
    {
     "data": {
      "image/png": "[encoded data removed]",
      "text/plain": [
       "<Figure size 432x288 with 1 Axes>"
      ]
     },
     "metadata": {
      "needs_background": "light"
     },
     "output_type": "display_data"
    },
    {
     "name": "stdout",
     "output_type": "stream",
     "text": [
      "6. Scatter Plot antara 'PERCENT AGED UNDER 18 OR OVER 64' dan 'HARDSHIP_INDEX'\n"
     ]
    },
    {
     "data": {
      "image/png": "[encoded data removed]",
      "text/plain": [
       "<Figure size 432x288 with 1 Axes>"
      ]
     },
     "metadata": {
      "needs_background": "light"
     },
     "output_type": "display_data"
    },
    {
     "name": "stdout",
     "output_type": "stream",
     "text": [
      "7. Scatter Plot antara 'PER CAPITA INCOME ' dan 'HARDSHIP_INDEX'\n"
     ]
    },
    {
     "data": {
      "image/png": "[encoded data removed]",
      "text/plain": [
       "<Figure size 432x288 with 1 Axes>"
      ]
     },
     "metadata": {
      "needs_background": "light"
     },
     "output_type": "display_data"
    }
   ],
   "source": [
    "import matplotlib.pyplot as plt # menampilkan scatter plot\n",
    "\n",
    "# scatter plot untuk masing-masing features\n",
    "\n",
    "print(\"1. Scatter Plot antara 'Community Area Number' dan 'HARDSHIP_INDEX'\")\n",
    "plt.scatter(data['Community_Area_Number'], data['HARDSHIP_INDEX']) \n",
    "plt.xlabel(\"Community Area Number\")\n",
    "plt.ylabel(\"HARDSHIP_INDEX\")\n",
    "plt.show()\n",
    "\n",
    "print(\"2. Scatter Plot antara 'COMMUNITY AREA NAME' dan 'HARDSHIP_INDEX'\")\n",
    "plt.scatter(data['PERCENT_OF_HOUSING_CROWDED'], data['HARDSHIP_INDEX']) \n",
    "plt.xlabel(\"ZN\")\n",
    "plt.ylabel(\"HARDSHIP_INDEX\")\n",
    "plt.show()\n",
    "\n",
    "print(\"3. Scatter Plot antara 'PERCENT OF HOUSING CROWDED' dan 'HARDSHIP_INDEX'\")\n",
    "plt.scatter(data['PERCENT_HOUSEHOLDS_BELOW_POVERTY'], data['HARDSHIP_INDEX']) \n",
    "plt.xlabel(\"INDUS\")\n",
    "plt.ylabel(\"HARDSHIP_INDEX\")\n",
    "plt.show()\n",
    "\n",
    "print(\"4. Scatter Plot antara 'PERCENT HOUSEHOLDS BELOW POVERTY' dan 'HARDSHIP_INDEX'\")\n",
    "plt.scatter(data['PERCENT_AGED_16+_UNEMPLOYED'], data['HARDSHIP_INDEX']) \n",
    "plt.xlabel(\"CHAS\")\n",
    "plt.ylabel(\"HARDSHIP_INDEX\")\n",
    "plt.show()\n",
    "\n",
    "print(\"5. Scatter Plot antara 'PERCENT AGED 25+ WITHOUT HIGH SCHOOL DIPLOMA' dan 'HARDSHIP_INDEX'\")\n",
    "plt.scatter(data['PERCENT_AGED_25+_WITHOUT_HIGH_SCHOOL_DIPLOMA'], data['HARDSHIP_INDEX']) \n",
    "plt.xlabel(\"RM\")\n",
    "plt.ylabel(\"HARDSHIP_INDEX\")\n",
    "plt.show()\n",
    "\n",
    "print(\"6. Scatter Plot antara 'PERCENT AGED UNDER 18 OR OVER 64' dan 'HARDSHIP_INDEX'\")\n",
    "plt.scatter(data['PERCENT_AGED UNDER_18_OR_OVER_64'], data['HARDSHIP_INDEX']) \n",
    "plt.xlabel(\"AGE\")\n",
    "plt.ylabel(\"HARDSHIP_INDEX\")\n",
    "plt.show()\n",
    "\n",
    "print(\"7. Scatter Plot antara 'PER CAPITA INCOME ' dan 'HARDSHIP_INDEX'\")\n",
    "plt.scatter(data['PER_CAPITA_INCOME '], data['HARDSHIP_INDEX']) \n",
    "plt.xlabel(\"DIS\")\n",
    "plt.ylabel(\"HARDSHIP_INDEX\")\n",
    "plt.show()"
   ]
  },
  {
   "cell_type": "markdown",
   "metadata": {},
   "source": [
    "Berdasarkan pola data dari beberapa scatter plot diatas, terdapat 6 features yang memiliki dugaan kuat ada korelasi yaitu pada <b> Scatter Plot nomor 2 - 7</b>"
   ]
  },
  {
   "cell_type": "markdown",
   "metadata": {},
   "source": [
    "#### STATISTIC DESKRIPTIVE"
   ]
  },
  {
   "cell_type": "markdown",
   "metadata": {},
   "source": [
    "Langkah selanjutnya yaitu membuat statistik deskriptif dari Features 'PER_CAPITA_INCOME ' dan 'HARDSHIP_INDEX'. Statistik deskriptif yang akan digunakan yaitu menampilkan Data menggunakan tipe Histogram serta menghitung mean, median dan st deviasi dari Feature 'PER_CAPITA_INCOME ' dan 'HARDSHIP_INDEX'."
   ]
  },
  {
   "cell_type": "code",
   "execution_count": 142,
   "metadata": {},
   "outputs": [],
   "source": [
    "#import Libarary matplotlib\n",
    "import matplotlib.pyplot as plt"
   ]
  },
  {
   "cell_type": "markdown",
   "metadata": {},
   "source": [
    "<b>1. Menampilkan Data  Feature 'PER CAPITA INCOME ' dengan 'HARDSHIP_INDEX' dalam tipe Histogram</b>"
   ]
  },
  {
   "cell_type": "code",
   "execution_count": 144,
   "metadata": {},
   "outputs": [
    {
     "data": {
      "image/png": "[encoded data removed]",
      "text/plain": [
       "<Figure size 432x288 with 1 Axes>"
      ]
     },
     "metadata": {
      "needs_background": "light"
     },
     "output_type": "display_data"
    }
   ],
   "source": [
    "#Mengambil da Feature 'PER CAPITA INCOME ' dan membagi batang menjadi 5\n",
    "plt.hist(data['PER_CAPITA_INCOME '], 5)\n",
    "plt.xlabel('PER CAPITA INCOME ') \n",
    "plt.ylabel(\"Jumlah\")\n",
    "\n",
    "plt.show()"
   ]
  },
  {
   "cell_type": "code",
   "execution_count": 145,
   "metadata": {},
   "outputs": [
    {
     "data": {
      "image/png": "[encoded data removed]",
      "text/plain": [
       "<Figure size 432x288 with 1 Axes>"
      ]
     },
     "metadata": {
      "needs_background": "light"
     },
     "output_type": "display_data"
    }
   ],
   "source": [
    "#Mengambil da Feature 'HARDSHIP_INDEX' dan membagi batang menjadi 5\n",
    "plt.hist(data['HARDSHIP_INDEX'], 5)\n",
    "plt.xlabel('HARDSHIP INDEX') \n",
    "plt.ylabel(\"Jumlah\")\n",
    "\n",
    "plt.show()"
   ]
  },
  {
   "cell_type": "markdown",
   "metadata": {},
   "source": [
    "<b>2. Menghitung mean, median dan st deviasi dari Feature 'PER CAPITA INCOME ' dan 'HARDSHIP_INDEX'</b>"
   ]
  },
  {
   "cell_type": "code",
   "execution_count": 147,
   "metadata": {},
   "outputs": [
    {
     "name": "stdout",
     "output_type": "stream",
     "text": [
      "Mean PER CAPITA INCOME =  23600.634686346864\n",
      "Median PER CAPITA INCOME =  19398.0\n",
      "St Dev PER CAPITA INCOME =  13311.26161938665\n",
      "\n",
      "Mean HARDSHIP_INDEX =  52.464944649446494\n",
      "Median HARDSHIP_INDEX =  53.0\n",
      "St Dev HARDSHIP_INDEX=  27.464530428154113\n"
     ]
    }
   ],
   "source": [
    "#import library numpy \n",
    "import numpy as np\n",
    "\n",
    "#PER CAPITA INCOME\n",
    "#np.mean untuk mecari nilai rata2\n",
    "mean_income = np.mean(data['PER_CAPITA_INCOME ' ]) \n",
    "#np.median untuk mecari nilai rata2\n",
    "median_income = np.median(data['PER_CAPITA_INCOME '])\n",
    "#np.std untuk mecari nilai rata2\n",
    "stdev_income = np.std(data['PER_CAPITA_INCOME '])\n",
    "print('Mean PER CAPITA INCOME = ', mean_income)\n",
    "print('Median PER CAPITA INCOME = ', median_income)\n",
    "print('St Dev PER CAPITA INCOME = ', stdev_income)\n",
    "\n",
    "print()\n",
    "\n",
    "#HARDSHIP_INDEX\n",
    "mean_HARDSHIP_INDEX = np.mean(data['HARDSHIP_INDEX'])\n",
    "median_HARDSHIP_INDEX = np.median(data['HARDSHIP_INDEX'])\n",
    "stdev_HARDSHIP_INDEX = np.std(data['HARDSHIP_INDEX'])\n",
    "print('Mean HARDSHIP_INDEX = ', mean_HARDSHIP_INDEX)\n",
    "print('Median HARDSHIP_INDEX = ', median_HARDSHIP_INDEX)\n",
    "print('St Dev HARDSHIP_INDEX= ', stdev_HARDSHIP_INDEX)"
   ]
  },
  {
   "cell_type": "markdown",
   "metadata": {},
   "source": [
    "Standar deviasi adalah bentuk pengukuran yang digunakan untuk mengukur jumlah variasi atau sebaran sejumlah nilai data. Standar deviasi dalam statistik deskriptif ini banyak digunakan untuk menghitung variabilitas atau keragaman yang digunakan dalam statistik dan teori probabilitas. "
   ]
  },
  {
   "cell_type": "markdown",
   "metadata": {},
   "source": [
    "#### Analisis Model Regresi"
   ]
  },
  {
   "cell_type": "markdown",
   "metadata": {},
   "source": [
    "Selanjutnya yaitu menganalisis Model Regresi, analisis ini di lihat dari bentuk scatter plot d atas. Disini untuk menganalisi yaitu dengan mencari R2."
   ]
  },
  {
   "cell_type": "code",
   "execution_count": 150,
   "metadata": {},
   "outputs": [
    {
     "name": "stdout",
     "output_type": "stream",
     "text": [
      "Intercept: 94.10\n",
      "Coefficients: -0.00\n",
      "R² Scatter Plot 3: -2.30\n",
      "R² Scatter Plot 4: -2.29\n",
      "R² Scatter Plot 5: -2.30\n",
      "R² Scatter Plot 6: -2.29\n",
      "R² Scatter Plot 7: -2.29\n",
      "R² Scatter Plot 8: 0.73\n"
     ]
    }
   ],
   "source": [
    "from sklearn.linear_model import LinearRegression\n",
    "\n",
    "# Variabel bebas yang diubah dari column menjadi baris\n",
    "x1 = np.array(data['PERCENT_OF_HOUSING_CROWDED']).reshape((-1,1))\n",
    "x2 = np.array(data['PERCENT_HOUSEHOLDS_BELOW_POVERTY']).reshape((-1,1)) \n",
    "x3 = np.array(data['PERCENT_AGED_16+_UNEMPLOYED']).reshape((-1,1)) \n",
    "x4 = np.array(data['PERCENT_AGED_25+_WITHOUT_HIGH_SCHOOL_DIPLOMA']).reshape((-1,1)) \n",
    "x5 = np.array(data['PERCENT_AGED UNDER_18_OR_OVER_64']).reshape((-1,1))\n",
    "x6 = np.array(data['PER_CAPITA_INCOME ']).reshape((-1,1)) \n",
    "\n",
    "y = np.array(data['HARDSHIP_INDEX']) # Variabel terikat\n",
    "\n",
    "model = LinearRegression()\n",
    "model.fit(x1,y)\n",
    "model.fit(x2,y)\n",
    "model.fit(x3,y)\n",
    "model.fit(x4,y)\n",
    "model.fit(x5,y)\n",
    "model.fit(x6,y)\n",
    "\n",
    "intercept = model.intercept_ # Menghitung Intersepsi (b0)\n",
    "coefficients = model.coef_[0] # Menghitung Koefisien (b1)\n",
    "\n",
    "# Menghitung hubungan variabel x dan y\n",
    "r_sq1 = model.score(x1,y) \n",
    "r_sq2 = model.score(x2,y) \n",
    "r_sq3 = model.score(x3,y) \n",
    "r_sq4 = model.score(x4,y) \n",
    "r_sq5 = model.score(x5,y) \n",
    "r_sq6 = model.score(x6,y) \n",
    "\n",
    "\n",
    "print('Intercept: {:0.2f}'.format(intercept))\n",
    "print('Coefficients: {:0.2f}'.format(coefficients))\n",
    "print('R\\u00b2 Scatter Plot 3: {:0.2f}'.format(r_sq1))\n",
    "print('R\\u00b2 Scatter Plot 4: {:0.2f}'.format(r_sq2))\n",
    "print('R\\u00b2 Scatter Plot 5: {:0.2f}'.format(r_sq3))\n",
    "print('R\\u00b2 Scatter Plot 6: {:0.2f}'.format(r_sq4))\n",
    "print('R\\u00b2 Scatter Plot 7: {:0.2f}'.format(r_sq5))\n",
    "print('R\\u00b2 Scatter Plot 8: {:0.2f}'.format(r_sq6))"
   ]
  },
  {
   "cell_type": "markdown",
   "metadata": {},
   "source": [
    "Langkah selanjutnya yaitu menentukan model regresi apa yang sesuai dengan pola sebaran data dari scatter plot. Apakah model regresi linear atau nonlinear? \n",
    "Dalam menentukan model regresi, dapat dilihat melalui nilai R2 nya. Apabila nilai R2 mendekati 1 maka dapat mengunakan model regresi linear.\n",
    "\n",
    "Nilai R2 tertinggi yang di dapatkan yaitu 0.73, hampir mendekati 1. tapi jika dilihat lagi dari sebaran scatter plot. cocok menggunakan non linear.\n",
    "\n",
    "Model regresi nonlinear yang akan digunakan antara lain : <br>\n",
    "a. Sigmoid<br>\n",
    "b. Eksponensial<br>\n",
    "c. Quadratic<br>\n",
    "d. Qubic "
   ]
  },
  {
   "cell_type": "code",
   "execution_count": 151,
   "metadata": {},
   "outputs": [],
   "source": [
    "def sigmoid(x, Beta_1, Beta_2):\n",
    "     y = 1 / (1 + np.exp(-Beta_1*(x-Beta_2)))\n",
    "     return y\n",
    "def eksponensial(x, Beta_1, Beta_2):\n",
    "     y = Beta_1*np.exp(Beta_2*x)\n",
    "     return y\n",
    "def Quadratic(x, Beta_1, Beta_2, Beta_3):\n",
    "     y = Beta_1+Beta_2*x**1+Beta_3*x**2\n",
    "     return y\n",
    "def Qubic(x, Beta_1, Beta_2, Beta_3, Beta_4):\n",
    "     y = Beta_1+Beta_2*x**1+Beta_3*x**2+Beta_4*x**3\n",
    "     return y\n",
    "\n",
    "x_data, y_data = (data[\"PER_CAPITA_INCOME \"].values, data[\"HARDSHIP_INDEX\"].values)"
   ]
  },
  {
   "cell_type": "code",
   "execution_count": 152,
   "metadata": {},
   "outputs": [],
   "source": [
    "# normalisasi data\n",
    "xdata =x_data/max(x_data)\n",
    "ydata =y_data/max(y_data)"
   ]
  },
  {
   "cell_type": "markdown",
   "metadata": {},
   "source": [
    "Untuk menemukan parameter terbaik yaitu dengan menggunakan curve_fit. Curve_fit menggunakan kuadrat terkecil nonlinear agar sesuai dengan model regresi yang telah dibuat. \n",
    "\n",
    "popt adalah parameter yang dioptimalkan."
   ]
  },
  {
   "cell_type": "code",
   "execution_count": 153,
   "metadata": {},
   "outputs": [
    {
     "name": "stdout",
     "output_type": "stream",
     "text": [
      " beta_1 = -14.188311, beta_2 = 0.249193\n",
      " beta_1 = -14.188311, beta_2 = 0.249193\n",
      " beta_1 = 1.377522, beta_2 = -4.282329\n",
      " beta_1 = 1.663964, beta_2 = -6.965834\n"
     ]
    }
   ],
   "source": [
    "from scipy.optimize import curve_fit\n",
    "\n",
    "popt1, pcov1 = curve_fit(sigmoid, xdata, ydata, maxfev=100000)\n",
    "#print the final parameters\n",
    "print(\" beta_1 = %f, beta_2 = %f\" % (popt1[0], popt1[1]))\n",
    "\n",
    "popt2, pcov2 = curve_fit(eksponensial, xdata, ydata, maxfev=100000)\n",
    "#print the final parameters\n",
    "print(\" beta_1 = %f, beta_2 = %f\" % (popt1[0], popt1[1]))\n",
    "\n",
    "popt3, pcov3 = curve_fit(Quadratic, xdata, ydata, maxfev=100000)\n",
    "#print the final parameters\n",
    "print(\" beta_1 = %f, beta_2 = %f\" % (popt3[0], popt3[1]))\n",
    "\n",
    "from scipy.optimize import curve_fit\n",
    "popt4, pcov4 = curve_fit(Qubic, xdata, ydata, maxfev=100000)\n",
    "#print the final parameters\n",
    "print(\" beta_1 = %f, beta_2 = %f\" % (popt4[0], popt4[1]))"
   ]
  },
  {
   "cell_type": "markdown",
   "metadata": {},
   "source": [
    "Dan ini merupakan hasil plot yang sudah diregresikan"
   ]
  },
  {
   "cell_type": "code",
   "execution_count": 154,
   "metadata": {
    "scrolled": true
   },
   "outputs": [
    {
     "name": "stdout",
     "output_type": "stream",
     "text": [
      "SIGMOID\n"
     ]
    },
    {
     "data": {
      "image/png": "[encoded data removed]",
      "text/plain": [
       "<Figure size 576x360 with 1 Axes>"
      ]
     },
     "metadata": {
      "needs_background": "light"
     },
     "output_type": "display_data"
    },
    {
     "name": "stdout",
     "output_type": "stream",
     "text": [
      "EXPONENSIAL\n"
     ]
    },
    {
     "data": {
      "image/png": "[encoded data removed]",
      "text/plain": [
       "<Figure size 576x360 with 1 Axes>"
      ]
     },
     "metadata": {
      "needs_background": "light"
     },
     "output_type": "display_data"
    },
    {
     "name": "stdout",
     "output_type": "stream",
     "text": [
      "QUADRATIC\n"
     ]
    },
    {
     "data": {
      "image/png": "[encoded data removed]",
      "text/plain": [
       "<Figure size 576x360 with 1 Axes>"
      ]
     },
     "metadata": {
      "needs_background": "light"
     },
     "output_type": "display_data"
    },
    {
     "name": "stdout",
     "output_type": "stream",
     "text": [
      "QUBIC\n"
     ]
    },
    {
     "data": {
      "image/png": "[encoded data removed]",
      "text/plain": [
       "<Figure size 576x360 with 1 Axes>"
      ]
     },
     "metadata": {
      "needs_background": "light"
     },
     "output_type": "display_data"
    }
   ],
   "source": [
    "print(\"SIGMOID\")\n",
    "x = np.arange(0, 10, 1)\n",
    "x = x/max(x)\n",
    "plt.figure(figsize=(8,5))\n",
    "y1 = sigmoid(x, *popt1)\n",
    "plt.plot(xdata, ydata, 'ro', label='data')\n",
    "plt.plot(x,y1, linewidth=3.0, label='fit')\n",
    "plt.legend(loc='best')\n",
    "plt.ylabel('PER CAPITA INCOME ')\n",
    "plt.xlabel('HARDSHIP INDEX')\n",
    "plt.show()\n",
    "\n",
    "print(\"EXPONENSIAL\")\n",
    "x = np.arange(0, 10, 1)\n",
    "x = x/max(x)\n",
    "plt.figure(figsize=(8,5))\n",
    "y2 = eksponensial(x, *popt2)\n",
    "plt.plot(xdata, ydata, 'ro', label='data')\n",
    "plt.plot(x,y2, linewidth=3.0, label='fit')\n",
    "plt.legend(loc='best')\n",
    "plt.ylabel('PER CAPITA INCOME ')\n",
    "plt.xlabel('HARDSHIP INDEX')\n",
    "plt.show()\n",
    "\n",
    "print(\"QUADRATIC\")\n",
    "x = np.arange(0, 10, 1)\n",
    "x = x/max(x)\n",
    "plt.figure(figsize=(8,5))\n",
    "y3 = Quadratic(x, *popt3)\n",
    "plt.plot(xdata, ydata, 'ro', label='data')\n",
    "plt.plot(x,y3, linewidth=3.0, label='fit')\n",
    "plt.legend(loc='best')\n",
    "plt.ylabel('PER CAPITA INCOME ')\n",
    "plt.xlabel('HARDSHIP INDEX')\n",
    "plt.show()\n",
    "\n",
    "print(\"QUBIC\")\n",
    "x = np.arange(0, 10, 1)\n",
    "x = x/max(x)\n",
    "plt.figure(figsize=(8,5))\n",
    "y4 = Qubic(x, *popt4)\n",
    "plt.plot(xdata, ydata, 'ro', label='data')\n",
    "plt.plot(x,y4, linewidth=3.0, label='fit')\n",
    "plt.legend(loc='best')\n",
    "plt.ylabel('PER CAPITA INCOME ')\n",
    "plt.xlabel('HARDSHIP INDEX')\n",
    "plt.show()"
   ]
  },
  {
   "cell_type": "code",
   "execution_count": 155,
   "metadata": {},
   "outputs": [
    {
     "name": "stdout",
     "output_type": "stream",
     "text": [
      "===== Sigmoid =====\n",
      "Mean absolute error: 0.06\n",
      "Residual sum of squares (MSE): 0.01\n",
      "R2-score: 0.93\n",
      "===== Eksponensial =====\n",
      "Mean absolute error: 0.04\n",
      "Residual sum of squares (MSE): 0.00\n",
      "R2-score: 0.96\n",
      "===== Quadratic =====\n",
      "Mean absolute error: 0.05\n",
      "Residual sum of squares (MSE): 0.00\n",
      "R2-score: 0.94\n",
      "===== Qubic =====\n",
      "Mean absolute error: 0.04\n",
      "Residual sum of squares (MSE): 0.00\n",
      "R2-score: 0.96\n"
     ]
    }
   ],
   "source": [
    "# split data into train/test\n",
    "msk = np.random.rand(len(data)) < 0.8\n",
    "train_x = xdata[msk]\n",
    "test_x = xdata[~msk]\n",
    "train_y = ydata[msk]\n",
    "test_y = ydata[~msk]\n",
    "\n",
    "# build the model using train set\n",
    "popt1, pcov1 = curve_fit(sigmoid, train_x, train_y, maxfev=100000)\n",
    "popt2, pcov2 = curve_fit(eksponensial, train_x, train_y, maxfev=100000)\n",
    "popt3, pcov3 = curve_fit(Quadratic, train_x, train_y, maxfev=100000)\n",
    "popt4, pcov4 = curve_fit(Qubic, train_x, train_y, maxfev=100000)\n",
    "\n",
    "\n",
    "# predict using test set\n",
    "y_hat1 = sigmoid(test_x, *popt1)\n",
    "y_hat2 = eksponensial(test_x, *popt2)\n",
    "y_hat3 = Quadratic(test_x, *popt3)\n",
    "y_hat4 = Qubic(test_x, *popt4)\n",
    "\n",
    "\n",
    "# evaluation\n",
    "print(\"===== Sigmoid =====\")\n",
    "print(\"Mean absolute error: %.2f\" % np.mean(np.absolute(y_hat1 - test_y)))\n",
    "print(\"Residual sum of squares (MSE): %.2f\" % np.mean((y_hat1 - test_y) ** 2))\n",
    "from sklearn.metrics import r2_score\n",
    "print(\"R2-score: %.2f\" % r2_score(y_hat1 , test_y) )\n",
    "\n",
    "# evaluation\n",
    "print(\"===== Eksponensial =====\")\n",
    "print(\"Mean absolute error: %.2f\" % np.mean(np.absolute(y_hat2 - test_y)))\n",
    "print(\"Residual sum of squares (MSE): %.2f\" % np.mean((y_hat2 - test_y) ** 2))\n",
    "from sklearn.metrics import r2_score\n",
    "print(\"R2-score: %.2f\" % r2_score(y_hat2 , test_y) )\n",
    "\n",
    "# evaluation\n",
    "print(\"===== Quadratic =====\")\n",
    "print(\"Mean absolute error: %.2f\" % np.mean(np.absolute(y_hat3 - test_y)))\n",
    "print(\"Residual sum of squares (MSE): %.2f\" % np.mean((y_hat3 - test_y) ** 2))\n",
    "from sklearn.metrics import r2_score\n",
    "print(\"R2-score: %.2f\" % r2_score(y_hat3 , test_y) )\n",
    "\n",
    "# evaluation\n",
    "print(\"===== Qubic =====\")\n",
    "print(\"Mean absolute error: %.2f\" % np.mean(np.absolute(y_hat4 - test_y)))\n",
    "print(\"Residual sum of squares (MSE): %.2f\" % np.mean((y_hat4 - test_y) ** 2))\n",
    "from sklearn.metrics import r2_score\n",
    "print(\"R2-score: %.2f\" % r2_score(y_hat4 , test_y) )\n"
   ]
  },
  {
   "cell_type": "markdown",
   "metadata": {},
   "source": [
    "Dilihat dari garis yang sudah di buat, regresi non linear yang nilai R2nya tertinggi ada 2 yaitu <b>Eksponensial</b> dan <b> Qubic</b> . Tapi dilihat gambar garisnya, paling cocok yaitu menggunakan <b> Exponensial</b>"
   ]
  },
  {
   "cell_type": "markdown",
   "metadata": {},
   "source": [
    "#### Analisis Clustering"
   ]
  },
  {
   "cell_type": "markdown",
   "metadata": {},
   "source": [
    "Dari dataset diatas dapat di analisis <b> K-Means Clustering </b>. Yang bertujuan untuk menemukan kelas dalam data, dengan jumlah kelas yang diwakili oleh variable k. Variable k sendiri adalah jumlah cluster yang kita inginkan.\n",
    "Menentukan variabel yang diklusterkan. Disini menggunakan variable madv pada sumbu X dan variabel lstat pada sumbu Y"
   ]
  },
  {
   "cell_type": "code",
   "execution_count": 157,
   "metadata": {},
   "outputs": [
    {
     "data": {
      "text/html": [
       "<div>\n",
       "<style scoped>\n",
       "    .dataframe tbody tr th:only-of-type {\n",
       "        vertical-align: middle;\n",
       "    }\n",
       "\n",
       "    .dataframe tbody tr th {\n",
       "        vertical-align: top;\n",
       "    }\n",
       "\n",
       "    .dataframe thead th {\n",
       "        text-align: right;\n",
       "    }\n",
       "</style>\n",
       "<table border=\"1\" class=\"dataframe\">\n",
       "  <thead>\n",
       "    <tr style=\"text-align: right;\">\n",
       "      <th></th>\n",
       "      <th>PER_CAPITA_INCOME</th>\n",
       "      <th>HARDSHIP_INDEX</th>\n",
       "    </tr>\n",
       "  </thead>\n",
       "  <tbody>\n",
       "    <tr>\n",
       "      <th>0</th>\n",
       "      <td>23939</td>\n",
       "      <td>39</td>\n",
       "    </tr>\n",
       "    <tr>\n",
       "      <th>1</th>\n",
       "      <td>23040</td>\n",
       "      <td>46</td>\n",
       "    </tr>\n",
       "    <tr>\n",
       "      <th>2</th>\n",
       "      <td>35787</td>\n",
       "      <td>20</td>\n",
       "    </tr>\n",
       "    <tr>\n",
       "      <th>3</th>\n",
       "      <td>37524</td>\n",
       "      <td>17</td>\n",
       "    </tr>\n",
       "    <tr>\n",
       "      <th>4</th>\n",
       "      <td>57123</td>\n",
       "      <td>6</td>\n",
       "    </tr>\n",
       "  </tbody>\n",
       "</table>\n",
       "</div>"
      ],
      "text/plain": [
       "   PER_CAPITA_INCOME   HARDSHIP_INDEX\n",
       "0               23939              39\n",
       "1               23040              46\n",
       "2               35787              20\n",
       "3               37524              17\n",
       "4               57123               6"
      ]
     },
     "execution_count": 157,
     "metadata": {},
     "output_type": "execute_result"
    }
   ],
   "source": [
    "# Menentukan variabel yang akan akan di clusterkan\n",
    "HARDSHIP_INDEX_x = data.iloc[:, 6:8]\n",
    "HARDSHIP_INDEX_x.head()"
   ]
  },
  {
   "cell_type": "markdown",
   "metadata": {},
   "source": [
    "Langkah selanjutnya yaitu visualisasi gambar sebaran."
   ]
  },
  {
   "cell_type": "code",
   "execution_count": 158,
   "metadata": {},
   "outputs": [
    {
     "data": {
      "image/png": "[encoded data removed]",
      "text/plain": [
       "<Figure size 432x288 with 1 Axes>"
      ]
     },
     "metadata": {
      "needs_background": "light"
     },
     "output_type": "display_data"
    }
   ],
   "source": [
    "# Memvisualkan persebaran data \n",
    "plt.scatter(data['PER_CAPITA_INCOME '], data['HARDSHIP_INDEX'], s =10, c = \"c\", marker = \"o\", alpha = 1)\n",
    "plt.ylabel('PER CAPITA INCOME ')\n",
    "plt.xlabel('HARDSHIP_INDEX')\n",
    "plt.show()"
   ]
  },
  {
   "cell_type": "markdown",
   "metadata": {},
   "source": [
    "Mengubah Feature HARDSHIP_INDEX  Menjadi Array"
   ]
  },
  {
   "cell_type": "code",
   "execution_count": 159,
   "metadata": {},
   "outputs": [
    {
     "name": "stdout",
     "output_type": "stream",
     "text": [
      "[[23939    39]\n",
      " [23040    46]\n",
      " [35787    20]\n",
      " [37524    17]\n",
      " [57123     6]\n",
      " [60058     5]\n",
      " [71551     2]\n",
      " [88669     1]\n",
      " [40959     8]\n",
      " [32875    21]\n",
      " [27751    25]\n",
      " [44164    11]\n",
      " [26576    33]\n",
      " [21323    53]\n",
      " [24336    35]\n",
      " [27249    34]\n",
      " [26282    28]\n",
      " [22014    50]\n",
      " [15461    70]\n",
      " [15089    71]\n",
      " [20039    42]\n",
      " [31908    23]\n",
      " [13781    85]\n",
      " [43198    10]\n",
      " [15957    73]\n",
      " [10934    92]\n",
      " [12961    83]\n",
      " [44689    15]\n",
      " [12034    87]\n",
      " [10402    96]\n",
      " [16444    76]\n",
      " [65526     3]\n",
      " [59077     7]\n",
      " [16148    82]\n",
      " [23791    47]\n",
      " [19252    78]\n",
      " [10432    97]\n",
      " [23472    57]\n",
      " [35911    26]\n",
      " [13785    88]\n",
      " [39056    14]\n",
      " [18672    58]\n",
      " [19398    55]\n",
      " [18881    60]\n",
      " [24454    41]\n",
      " [16579    75]\n",
      " [12515    79]\n",
      " [28887    38]\n",
      " [17949    52]\n",
      " [20588    51]\n",
      " [14685    65]\n",
      " [17104    64]\n",
      " [16563    62]\n",
      " [ 8201    98]\n",
      " [22677    44]\n",
      " [26353    32]\n",
      " [16134    67]\n",
      " [13089    84]\n",
      " [16954    61]\n",
      " [22694    43]\n",
      " [12765    91]\n",
      " [15754    69]\n",
      " [12171    93]\n",
      " [25113    29]\n",
      " [16907    56]\n",
      " [13231    80]\n",
      " [11317    89]\n",
      " [11888    94]\n",
      " [17285    66]\n",
      " [23482    37]\n",
      " [15528    74]\n",
      " [39523    12]\n",
      " [19713    48]\n",
      " [34381    16]\n",
      " [27149    30]\n",
      " [25828    24]\n",
      " [33385    19]\n",
      " [11317    89]\n",
      " [11888    94]\n",
      " [17285    66]\n",
      " [23482    37]\n",
      " [15528    74]\n",
      " [39523    12]\n",
      " [19713    48]\n",
      " [34381    16]\n",
      " [27149    30]\n",
      " [25828    24]\n",
      " [33385    19]\n",
      " [13785    88]\n",
      " [39056    14]\n",
      " [18672    58]\n",
      " [19398    55]\n",
      " [18881    60]\n",
      " [24454    41]\n",
      " [16579    75]\n",
      " [12515    79]\n",
      " [28887    38]\n",
      " [17949    52]\n",
      " [20588    51]\n",
      " [14685    65]\n",
      " [17104    64]\n",
      " [23472    57]\n",
      " [35911    26]\n",
      " [13785    88]\n",
      " [39056    14]\n",
      " [18672    58]\n",
      " [19398    55]\n",
      " [18881    60]\n",
      " [24454    41]\n",
      " [16579    75]\n",
      " [12515    79]\n",
      " [28887    38]\n",
      " [17949    52]\n",
      " [20588    51]\n",
      " [14685    65]\n",
      " [17104    64]\n",
      " [16563    62]\n",
      " [ 8201    98]\n",
      " [22677    44]\n",
      " [26353    32]\n",
      " [16134    67]\n",
      " [13089    84]\n",
      " [16954    61]\n",
      " [22694    43]\n",
      " [12765    91]\n",
      " [15754    69]\n",
      " [12171    93]\n",
      " [25113    29]\n",
      " [16907    56]\n",
      " [13231    80]\n",
      " [11317    89]\n",
      " [11888    94]\n",
      " [17285    66]\n",
      " [23482    37]\n",
      " [15528    74]\n",
      " [39523    12]\n",
      " [19713    48]\n",
      " [34381    16]\n",
      " [27149    30]\n",
      " [25828    24]\n",
      " [33385    19]\n",
      " [11317    89]\n",
      " [11888    94]\n",
      " [17285    66]\n",
      " [23482    37]\n",
      " [15528    74]\n",
      " [23939    39]\n",
      " [23040    46]\n",
      " [35787    20]\n",
      " [37524    17]\n",
      " [57123     6]\n",
      " [60058     5]\n",
      " [71551     2]\n",
      " [88669     1]\n",
      " [40959     8]\n",
      " [32875    21]\n",
      " [27751    25]\n",
      " [44164    11]\n",
      " [26576    33]\n",
      " [21323    53]\n",
      " [24336    35]\n",
      " [27249    34]\n",
      " [26282    28]\n",
      " [22014    50]\n",
      " [15461    70]\n",
      " [15089    71]\n",
      " [20039    42]\n",
      " [31908    23]\n",
      " [13781    85]\n",
      " [43198    10]\n",
      " [15957    73]\n",
      " [10934    92]\n",
      " [12961    83]\n",
      " [44689    15]\n",
      " [12034    87]\n",
      " [10402    96]\n",
      " [16444    76]\n",
      " [65526     3]\n",
      " [59077     7]\n",
      " [16148    82]\n",
      " [23791    47]\n",
      " [19252    78]\n",
      " [10432    97]\n",
      " [23472    57]\n",
      " [35911    26]\n",
      " [13785    88]\n",
      " [39056    14]\n",
      " [18672    58]\n",
      " [28887    38]\n",
      " [17949    52]\n",
      " [20588    51]\n",
      " [14685    65]\n",
      " [17104    64]\n",
      " [16563    62]\n",
      " [ 8201    98]\n",
      " [22677    44]\n",
      " [26353    32]\n",
      " [16134    67]\n",
      " [13089    84]\n",
      " [16954    61]\n",
      " [22694    43]\n",
      " [12765    91]\n",
      " [15754    69]\n",
      " [12171    93]\n",
      " [25113    29]\n",
      " [16907    56]\n",
      " [13231    80]\n",
      " [11317    89]\n",
      " [11888    94]\n",
      " [17285    66]\n",
      " [23482    37]\n",
      " [15528    74]\n",
      " [27751    25]\n",
      " [44164    11]\n",
      " [26576    33]\n",
      " [21323    53]\n",
      " [24336    35]\n",
      " [27249    34]\n",
      " [26282    28]\n",
      " [22014    50]\n",
      " [15461    70]\n",
      " [15089    71]\n",
      " [20039    42]\n",
      " [31908    23]\n",
      " [13781    85]\n",
      " [43198    10]\n",
      " [15957    73]\n",
      " [10934    92]\n",
      " [12961    83]\n",
      " [44689    15]\n",
      " [12034    87]\n",
      " [10402    96]\n",
      " [16444    76]\n",
      " [65526     3]\n",
      " [59077     7]\n",
      " [16148    82]\n",
      " [23791    47]\n",
      " [24454    41]\n",
      " [16579    75]\n",
      " [12515    79]\n",
      " [28887    38]\n",
      " [17949    52]\n",
      " [20588    51]\n",
      " [14685    65]\n",
      " [17104    64]\n",
      " [16563    62]\n",
      " [ 8201    98]\n",
      " [22677    44]\n",
      " [26353    32]\n",
      " [16134    67]\n",
      " [13089    84]\n",
      " [16954    61]\n",
      " [22694    43]\n",
      " [12765    91]\n",
      " [15754    69]\n",
      " [12171    93]\n",
      " [25113    29]\n",
      " [16907    56]\n",
      " [13231    80]\n",
      " [11317    89]\n",
      " [11888    94]\n",
      " [17285    66]\n",
      " [23482    37]\n",
      " [15528    74]\n",
      " [39523    12]\n",
      " [19713    48]\n",
      " [34381    16]\n",
      " [27149    30]\n",
      " [25828    24]\n",
      " [33385    19]\n",
      " [11317    89]]\n"
     ]
    }
   ],
   "source": [
    " x_array =  np.array(HARDSHIP_INDEX_x)\n",
    "print(x_array)"
   ]
  },
  {
   "cell_type": "markdown",
   "metadata": {},
   "source": [
    "Kemudian, langkah yang di lakukan yaitu menstandarkan Ukuran Variabel "
   ]
  },
  {
   "cell_type": "code",
   "execution_count": 160,
   "metadata": {},
   "outputs": [
    {
     "name": "stderr",
     "output_type": "stream",
     "text": [
      "C:\\Users\\widiya\\Anaconda3\\lib\\site-packages\\sklearn\\utils\\validation.py:595: DataConversionWarning:\n",
      "\n",
      "Data with input dtype int64 was converted to float64 by MinMaxScaler.\n",
      "\n"
     ]
    },
    {
     "data": {
      "text/plain": [
       "array([[0.19558085, 0.39175258],\n",
       "       [0.18440871, 0.46391753],\n",
       "       [0.34281951, 0.19587629],\n",
       "       [0.36440573, 0.16494845],\n",
       "       [0.60796838, 0.05154639],\n",
       "       [0.64444251, 0.04123711],\n",
       "       [0.78726947, 0.01030928],\n",
       "       [1.        , 0.        ],\n",
       "       [0.4070935 , 0.07216495],\n",
       "       [0.30663121, 0.20618557],\n",
       "       [0.24295372, 0.24742268],\n",
       "       [0.446923  , 0.10309278],\n",
       "       [0.22835164, 0.32989691],\n",
       "       [0.16307103, 0.53608247],\n",
       "       [0.20051449, 0.35051546],\n",
       "       [0.23671522, 0.34020619],\n",
       "       [0.22469802, 0.27835052],\n",
       "       [0.1716583 , 0.50515464],\n",
       "       [0.0902222 , 0.71134021],\n",
       "       [0.08559924, 0.72164948],\n",
       "       [0.14711438, 0.42268041],\n",
       "       [0.29461401, 0.22680412],\n",
       "       [0.06934434, 0.86597938],\n",
       "       [0.43491823, 0.09278351],\n",
       "       [0.09638614, 0.74226804],\n",
       "       [0.03396381, 0.93814433],\n",
       "       [0.05915395, 0.84536082],\n",
       "       [0.45344733, 0.1443299 ],\n",
       "       [0.04763384, 0.88659794],\n",
       "       [0.02735249, 0.97938144],\n",
       "       [0.10243824, 0.77319588],\n",
       "       [0.71239499, 0.02061856],\n",
       "       [0.63225133, 0.06185567],\n",
       "       [0.09875976, 0.83505155],\n",
       "       [0.19374161, 0.4742268 ],\n",
       "       [0.1373341 , 0.79381443],\n",
       "       [0.02772531, 0.98969072],\n",
       "       [0.1897773 , 0.57731959],\n",
       "       [0.34436049, 0.25773196],\n",
       "       [0.06939404, 0.89690722],\n",
       "       [0.38344435, 0.13402062],\n",
       "       [0.13012626, 0.58762887],\n",
       "       [0.13914848, 0.55670103],\n",
       "       [0.13272357, 0.60824742],\n",
       "       [0.20198091, 0.41237113],\n",
       "       [0.10411592, 0.7628866 ],\n",
       "       [0.05361137, 0.80412371],\n",
       "       [0.25707113, 0.3814433 ],\n",
       "       [0.12114132, 0.5257732 ],\n",
       "       [0.15393697, 0.51546392],\n",
       "       [0.08057862, 0.65979381],\n",
       "       [0.11064025, 0.64948454],\n",
       "       [0.10391709, 0.62886598],\n",
       "       [0.        , 1.        ],\n",
       "       [0.1798976 , 0.44329897],\n",
       "       [0.22558035, 0.31958763],\n",
       "       [0.09858577, 0.68041237],\n",
       "       [0.06074464, 0.8556701 ],\n",
       "       [0.10877616, 0.6185567 ],\n",
       "       [0.18010886, 0.43298969],\n",
       "       [0.0567182 , 0.92783505],\n",
       "       [0.0938634 , 0.70103093],\n",
       "       [0.04933638, 0.94845361],\n",
       "       [0.2101705 , 0.28865979],\n",
       "       [0.10819208, 0.56701031],\n",
       "       [0.06250932, 0.81443299],\n",
       "       [0.03872347, 0.90721649],\n",
       "       [0.04581946, 0.95876289],\n",
       "       [0.1128896 , 0.67010309],\n",
       "       [0.18990158, 0.37113402],\n",
       "       [0.09105483, 0.75257732],\n",
       "       [0.3892479 , 0.11340206],\n",
       "       [0.14306308, 0.48453608],\n",
       "       [0.32534672, 0.15463918],\n",
       "       [0.23547249, 0.29896907],\n",
       "       [0.21905602, 0.2371134 ],\n",
       "       [0.31296913, 0.18556701],\n",
       "       [0.03872347, 0.90721649],\n",
       "       [0.04581946, 0.95876289],\n",
       "       [0.1128896 , 0.67010309],\n",
       "       [0.18990158, 0.37113402],\n",
       "       [0.09105483, 0.75257732],\n",
       "       [0.3892479 , 0.11340206],\n",
       "       [0.14306308, 0.48453608],\n",
       "       [0.32534672, 0.15463918],\n",
       "       [0.23547249, 0.29896907],\n",
       "       [0.21905602, 0.2371134 ],\n",
       "       [0.31296913, 0.18556701],\n",
       "       [0.06939404, 0.89690722],\n",
       "       [0.38344435, 0.13402062],\n",
       "       [0.13012626, 0.58762887],\n",
       "       [0.13914848, 0.55670103],\n",
       "       [0.13272357, 0.60824742],\n",
       "       [0.20198091, 0.41237113],\n",
       "       [0.10411592, 0.7628866 ],\n",
       "       [0.05361137, 0.80412371],\n",
       "       [0.25707113, 0.3814433 ],\n",
       "       [0.12114132, 0.5257732 ],\n",
       "       [0.15393697, 0.51546392],\n",
       "       [0.08057862, 0.65979381],\n",
       "       [0.11064025, 0.64948454],\n",
       "       [0.1897773 , 0.57731959],\n",
       "       [0.34436049, 0.25773196],\n",
       "       [0.06939404, 0.89690722],\n",
       "       [0.38344435, 0.13402062],\n",
       "       [0.13012626, 0.58762887],\n",
       "       [0.13914848, 0.55670103],\n",
       "       [0.13272357, 0.60824742],\n",
       "       [0.20198091, 0.41237113],\n",
       "       [0.10411592, 0.7628866 ],\n",
       "       [0.05361137, 0.80412371],\n",
       "       [0.25707113, 0.3814433 ],\n",
       "       [0.12114132, 0.5257732 ],\n",
       "       [0.15393697, 0.51546392],\n",
       "       [0.08057862, 0.65979381],\n",
       "       [0.11064025, 0.64948454],\n",
       "       [0.10391709, 0.62886598],\n",
       "       [0.        , 1.        ],\n",
       "       [0.1798976 , 0.44329897],\n",
       "       [0.22558035, 0.31958763],\n",
       "       [0.09858577, 0.68041237],\n",
       "       [0.06074464, 0.8556701 ],\n",
       "       [0.10877616, 0.6185567 ],\n",
       "       [0.18010886, 0.43298969],\n",
       "       [0.0567182 , 0.92783505],\n",
       "       [0.0938634 , 0.70103093],\n",
       "       [0.04933638, 0.94845361],\n",
       "       [0.2101705 , 0.28865979],\n",
       "       [0.10819208, 0.56701031],\n",
       "       [0.06250932, 0.81443299],\n",
       "       [0.03872347, 0.90721649],\n",
       "       [0.04581946, 0.95876289],\n",
       "       [0.1128896 , 0.67010309],\n",
       "       [0.18990158, 0.37113402],\n",
       "       [0.09105483, 0.75257732],\n",
       "       [0.3892479 , 0.11340206],\n",
       "       [0.14306308, 0.48453608],\n",
       "       [0.32534672, 0.15463918],\n",
       "       [0.23547249, 0.29896907],\n",
       "       [0.21905602, 0.2371134 ],\n",
       "       [0.31296913, 0.18556701],\n",
       "       [0.03872347, 0.90721649],\n",
       "       [0.04581946, 0.95876289],\n",
       "       [0.1128896 , 0.67010309],\n",
       "       [0.18990158, 0.37113402],\n",
       "       [0.09105483, 0.75257732],\n",
       "       [0.19558085, 0.39175258],\n",
       "       [0.18440871, 0.46391753],\n",
       "       [0.34281951, 0.19587629],\n",
       "       [0.36440573, 0.16494845],\n",
       "       [0.60796838, 0.05154639],\n",
       "       [0.64444251, 0.04123711],\n",
       "       [0.78726947, 0.01030928],\n",
       "       [1.        , 0.        ],\n",
       "       [0.4070935 , 0.07216495],\n",
       "       [0.30663121, 0.20618557],\n",
       "       [0.24295372, 0.24742268],\n",
       "       [0.446923  , 0.10309278],\n",
       "       [0.22835164, 0.32989691],\n",
       "       [0.16307103, 0.53608247],\n",
       "       [0.20051449, 0.35051546],\n",
       "       [0.23671522, 0.34020619],\n",
       "       [0.22469802, 0.27835052],\n",
       "       [0.1716583 , 0.50515464],\n",
       "       [0.0902222 , 0.71134021],\n",
       "       [0.08559924, 0.72164948],\n",
       "       [0.14711438, 0.42268041],\n",
       "       [0.29461401, 0.22680412],\n",
       "       [0.06934434, 0.86597938],\n",
       "       [0.43491823, 0.09278351],\n",
       "       [0.09638614, 0.74226804],\n",
       "       [0.03396381, 0.93814433],\n",
       "       [0.05915395, 0.84536082],\n",
       "       [0.45344733, 0.1443299 ],\n",
       "       [0.04763384, 0.88659794],\n",
       "       [0.02735249, 0.97938144],\n",
       "       [0.10243824, 0.77319588],\n",
       "       [0.71239499, 0.02061856],\n",
       "       [0.63225133, 0.06185567],\n",
       "       [0.09875976, 0.83505155],\n",
       "       [0.19374161, 0.4742268 ],\n",
       "       [0.1373341 , 0.79381443],\n",
       "       [0.02772531, 0.98969072],\n",
       "       [0.1897773 , 0.57731959],\n",
       "       [0.34436049, 0.25773196],\n",
       "       [0.06939404, 0.89690722],\n",
       "       [0.38344435, 0.13402062],\n",
       "       [0.13012626, 0.58762887],\n",
       "       [0.25707113, 0.3814433 ],\n",
       "       [0.12114132, 0.5257732 ],\n",
       "       [0.15393697, 0.51546392],\n",
       "       [0.08057862, 0.65979381],\n",
       "       [0.11064025, 0.64948454],\n",
       "       [0.10391709, 0.62886598],\n",
       "       [0.        , 1.        ],\n",
       "       [0.1798976 , 0.44329897],\n",
       "       [0.22558035, 0.31958763],\n",
       "       [0.09858577, 0.68041237],\n",
       "       [0.06074464, 0.8556701 ],\n",
       "       [0.10877616, 0.6185567 ],\n",
       "       [0.18010886, 0.43298969],\n",
       "       [0.0567182 , 0.92783505],\n",
       "       [0.0938634 , 0.70103093],\n",
       "       [0.04933638, 0.94845361],\n",
       "       [0.2101705 , 0.28865979],\n",
       "       [0.10819208, 0.56701031],\n",
       "       [0.06250932, 0.81443299],\n",
       "       [0.03872347, 0.90721649],\n",
       "       [0.04581946, 0.95876289],\n",
       "       [0.1128896 , 0.67010309],\n",
       "       [0.18990158, 0.37113402],\n",
       "       [0.09105483, 0.75257732],\n",
       "       [0.24295372, 0.24742268],\n",
       "       [0.446923  , 0.10309278],\n",
       "       [0.22835164, 0.32989691],\n",
       "       [0.16307103, 0.53608247],\n",
       "       [0.20051449, 0.35051546],\n",
       "       [0.23671522, 0.34020619],\n",
       "       [0.22469802, 0.27835052],\n",
       "       [0.1716583 , 0.50515464],\n",
       "       [0.0902222 , 0.71134021],\n",
       "       [0.08559924, 0.72164948],\n",
       "       [0.14711438, 0.42268041],\n",
       "       [0.29461401, 0.22680412],\n",
       "       [0.06934434, 0.86597938],\n",
       "       [0.43491823, 0.09278351],\n",
       "       [0.09638614, 0.74226804],\n",
       "       [0.03396381, 0.93814433],\n",
       "       [0.05915395, 0.84536082],\n",
       "       [0.45344733, 0.1443299 ],\n",
       "       [0.04763384, 0.88659794],\n",
       "       [0.02735249, 0.97938144],\n",
       "       [0.10243824, 0.77319588],\n",
       "       [0.71239499, 0.02061856],\n",
       "       [0.63225133, 0.06185567],\n",
       "       [0.09875976, 0.83505155],\n",
       "       [0.19374161, 0.4742268 ],\n",
       "       [0.20198091, 0.41237113],\n",
       "       [0.10411592, 0.7628866 ],\n",
       "       [0.05361137, 0.80412371],\n",
       "       [0.25707113, 0.3814433 ],\n",
       "       [0.12114132, 0.5257732 ],\n",
       "       [0.15393697, 0.51546392],\n",
       "       [0.08057862, 0.65979381],\n",
       "       [0.11064025, 0.64948454],\n",
       "       [0.10391709, 0.62886598],\n",
       "       [0.        , 1.        ],\n",
       "       [0.1798976 , 0.44329897],\n",
       "       [0.22558035, 0.31958763],\n",
       "       [0.09858577, 0.68041237],\n",
       "       [0.06074464, 0.8556701 ],\n",
       "       [0.10877616, 0.6185567 ],\n",
       "       [0.18010886, 0.43298969],\n",
       "       [0.0567182 , 0.92783505],\n",
       "       [0.0938634 , 0.70103093],\n",
       "       [0.04933638, 0.94845361],\n",
       "       [0.2101705 , 0.28865979],\n",
       "       [0.10819208, 0.56701031],\n",
       "       [0.06250932, 0.81443299],\n",
       "       [0.03872347, 0.90721649],\n",
       "       [0.04581946, 0.95876289],\n",
       "       [0.1128896 , 0.67010309],\n",
       "       [0.18990158, 0.37113402],\n",
       "       [0.09105483, 0.75257732],\n",
       "       [0.3892479 , 0.11340206],\n",
       "       [0.14306308, 0.48453608],\n",
       "       [0.32534672, 0.15463918],\n",
       "       [0.23547249, 0.29896907],\n",
       "       [0.21905602, 0.2371134 ],\n",
       "       [0.31296913, 0.18556701],\n",
       "       [0.03872347, 0.90721649]])"
      ]
     },
     "execution_count": 160,
     "metadata": {},
     "output_type": "execute_result"
    }
   ],
   "source": [
    "from sklearn.cluster import KMeans\n",
    "from sklearn.preprocessing import MinMaxScaler\n",
    "\n",
    "scaler = MinMaxScaler()\n",
    "x_scaled = scaler.fit_transform(x_array)\n",
    "x_scaled"
   ]
  },
  {
   "cell_type": "markdown",
   "metadata": {},
   "source": [
    "Langkah selanjutnya yaitu menentukan nilai k (jumlah kelas yang di pilih). disini akan di coba dengan menggunakan 3 kelas."
   ]
  },
  {
   "cell_type": "code",
   "execution_count": 161,
   "metadata": {},
   "outputs": [
    {
     "data": {
      "text/plain": [
       "KMeans(algorithm='auto', copy_x=True, init='k-means++', max_iter=300,\n",
       "    n_clusters=3, n_init=10, n_jobs=None, precompute_distances='auto',\n",
       "    random_state=123, tol=0.0001, verbose=0)"
      ]
     },
     "execution_count": 161,
     "metadata": {},
     "output_type": "execute_result"
    }
   ],
   "source": [
    "# Menentukan dan mengkonfigurasi fungsi kmeans \n",
    "kmeans = KMeans(n_clusters = 3, random_state=123)\n",
    "# Menentukan kluster dari data ---\n",
    "kmeans.fit(x_scaled)"
   ]
  },
  {
   "cell_type": "markdown",
   "metadata": {},
   "source": [
    "Setelah menentukan kluster yang dipih, lalu menampilkan pusat cluster yang sudah dipilih."
   ]
  },
  {
   "cell_type": "code",
   "execution_count": 162,
   "metadata": {},
   "outputs": [
    {
     "name": "stdout",
     "output_type": "stream",
     "text": [
      "[[0.18520922 0.42594672]\n",
      " [0.07380096 0.80518107]\n",
      " [0.46267964 0.12371134]]\n"
     ]
    }
   ],
   "source": [
    "# Menampilkan pusat cluster \n",
    "print(kmeans.cluster_centers_)"
   ]
  },
  {
   "cell_type": "markdown",
   "metadata": {},
   "source": [
    "Kemudian, setelah menampilkan pusat kluster. selanjutnya melihat kluster dari data set yang dimiliki."
   ]
  },
  {
   "cell_type": "code",
   "execution_count": 163,
   "metadata": {},
   "outputs": [
    {
     "name": "stdout",
     "output_type": "stream",
     "text": [
      "[0 0 2 2 2 2 2 2 2 2 0 2 0 0 0 0 0 0 1 1 0 2 1 2 1 1 1 2 1 1 1 2 2 1 0 1 1\n",
      " 0 2 1 2 0 0 0 0 1 1 0 0 0 1 1 1 1 0 0 1 1 1 0 1 1 1 0 0 1 1 1 1 0 1 2 0 2\n",
      " 0 0 2 1 1 1 0 1 2 0 2 0 0 2 1 2 0 0 0 0 1 1 0 0 0 1 1 0 2 1 2 0 0 0 0 1 1\n",
      " 0 0 0 1 1 1 1 0 0 1 1 1 0 1 1 1 0 0 1 1 1 1 0 1 2 0 2 0 0 2 1 1 1 0 1 0 0\n",
      " 2 2 2 2 2 2 2 2 0 2 0 0 0 0 0 0 1 1 0 2 1 2 1 1 1 2 1 1 1 2 2 1 0 1 1 0 2\n",
      " 1 2 0 0 0 0 1 1 1 1 0 0 1 1 1 0 1 1 1 0 0 1 1 1 1 0 1 0 2 0 0 0 0 0 0 1 1\n",
      " 0 2 1 2 1 1 1 2 1 1 1 2 2 1 0 0 1 1 0 0 0 1 1 1 1 0 0 1 1 1 0 1 1 1 0 0 1\n",
      " 1 1 1 0 1 2 0 2 0 0 2 1]\n"
     ]
    }
   ],
   "source": [
    "# Menampilkan Hasil Kluster \n",
    "print(kmeans.labels_)\n",
    "# Menambahkan Kolom \"kluster\" Dalam Data Frame Driver \n",
    "data[\"kluster\"] = kmeans.labels_"
   ]
  },
  {
   "cell_type": "markdown",
   "metadata": {},
   "source": [
    "Dan Langkah terakhir mari visualisasikan hasil clusternya."
   ]
  },
  {
   "cell_type": "code",
   "execution_count": 164,
   "metadata": {},
   "outputs": [
    {
     "data": {
      "image/png": "[encoded data removed]",
      "text/plain": [
       "<Figure size 432x288 with 2 Axes>"
      ]
     },
     "metadata": {
      "needs_background": "light"
     },
     "output_type": "display_data"
    }
   ],
   "source": [
    "# Memvisualkan hasil kluster ---\n",
    "output = plt.scatter(x_scaled[:,0], x_scaled[:,1], s = 100, c = data.kluster, marker = \"o\", alpha = 1, )\n",
    "centers = kmeans.cluster_centers_\n",
    "plt.scatter(centers[:,0], centers[:,1], c='red', s=200, alpha=1 , marker=\"s\");\n",
    "plt.title(\"Hasil Klustering K-Means\")\n",
    "plt.ylabel('PER CAPITA INCOME')\n",
    "plt.xlabel(' HARDSHIP_INDEX')\n",
    "plt.colorbar (output)\n",
    "plt.show()"
   ]
  },
  {
   "cell_type": "markdown",
   "metadata": {},
   "source": [
    "Dari gambar diatas, dapat dilihat bahwa antara 'PER CAPITA INCOME ' dan  HARDSHIP_INDEX telah tercluster menjadi 3"
   ]
  },
  {
   "cell_type": "code",
   "execution_count": null,
   "metadata": {},
   "outputs": [],
   "source": []
  }
 ],
 "metadata": {
  "kernelspec": {
   "display_name": "Python 3",
   "language": "python",
   "name": "python3"
  },
  "language_info": {
   "codemirror_mode": {
    "name": "ipython",
    "version": 3
   },
   "file_extension": ".py",
   "mimetype": "text/x-python",
   "name": "python",
   "nbconvert_exporter": "python",
   "pygments_lexer": "ipython3",
   "version": "3.7.3"
  }
 },
 "nbformat": 4,
 "nbformat_minor": 2
}
